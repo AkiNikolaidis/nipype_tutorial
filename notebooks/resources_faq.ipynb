{
 "cells": [
  {
   "cell_type": "markdown",
   "metadata": {
    "collapsed": true
   },
   "source": [
    "# Frequently Asked Questions\n",
    "\n",
    "This section will cover all FAQ around Nipype. For questions about neuroimaging in general, see the [FAQ on the Nipype Beginner's Guide](http://miykael.github.io/nipype-beginner-s-guide/faq.html)."
   ]
  },
  {
   "cell_type": "markdown",
   "metadata": {},
   "source": [
    "## How cool is Nipype?\n",
    "\n",
    "Nipype is really really cool!"
   ]
  }
 ],
 "metadata": {
  "anaconda-cloud": {},
  "kernelspec": {
   "display_name": "Python [conda root]",
   "language": "python",
   "name": "conda-root-py"
  },
  "language_info": {
   "codemirror_mode": {
    "name": "ipython",
    "version": 2
   },
   "file_extension": ".py",
   "mimetype": "text/x-python",
   "name": "python",
   "nbconvert_exporter": "python",
   "pygments_lexer": "ipython2",
   "version": "2.7.12"
  }
 },
 "nbformat": 4,
 "nbformat_minor": 0
}
