{
 "cells": [
  {
   "cell_type": "markdown",
   "metadata": {},
   "source": [
    "# Two ideas on how to hide solutions"
   ]
  },
  {
   "cell_type": "markdown",
   "metadata": {},
   "source": [
    "## Idea 1: Hide answer in base64"
   ]
  },
  {
   "cell_type": "code",
   "execution_count": 30,
   "metadata": {
    "collapsed": false
   },
   "outputs": [
    {
     "data": {
      "text/plain": [
       "'JXB5bGFiIGlubGluZQpmcm9tIG9zLnBhdGggaW1wb3J0IGpvaW4gYXMgb3BqCmZyb20gbmlweXBlLmludGVyZmFjZXMuZnNsIGltcG9ydCBNQ0ZMSVJULCBGTElSVApmcm9tIG5pcHlwZS5pbnRlcmZhY2VzLmFmbmkgaW1wb3J0IFJlc2FtcGxlCmZyb20gbmlweXBlLmludGVyZmFjZXMuc3BtIGltcG9ydCBTbW9vdGgKZnJvbSBuaXB5cGUuaW50ZXJmYWNlcy51dGlsaXR5IGltcG9ydCBJZGVudGl0eUludGVyZmFjZQpmcm9tIG5pcHlwZS5pbnRlcmZhY2VzLmlvIGltcG9ydCBTZWxlY3RGaWxlcywgRGF0YVNpbmsKZnJvbSBuaXB5cGUucGlwZWxpbmUuZW5naW5lIGltcG9ydCBXb3JrZmxvdywgTm9kZQ=='"
      ]
     },
     "execution_count": 30,
     "metadata": {},
     "output_type": "execute_result"
    }
   ],
   "source": [
    "import base64\n",
    "base64.b64encode(\"\"\"%pylab inline\n",
    "from os.path import join as opj\n",
    "from nipype.interfaces.fsl import MCFLIRT, FLIRT\n",
    "from nipype.interfaces.afni import Resample\n",
    "from nipype.interfaces.spm import Smooth\n",
    "from nipype.interfaces.utility import IdentityInterface\n",
    "from nipype.interfaces.io import SelectFiles, DataSink\n",
    "from nipype.pipeline.engine import Workflow, Node\"\"\")"
   ]
  },
  {
   "cell_type": "code",
   "execution_count": 31,
   "metadata": {
    "collapsed": false
   },
   "outputs": [
    {
     "name": "stdout",
     "output_type": "stream",
     "text": [
      "%pylab inline\n",
      "from os.path import join as opj\n",
      "from nipype.interfaces.fsl import MCFLIRT, FLIRT\n",
      "from nipype.interfaces.afni import Resample\n",
      "from nipype.interfaces.spm import Smooth\n",
      "from nipype.interfaces.utility import IdentityInterface\n",
      "from nipype.interfaces.io import SelectFiles, DataSink\n",
      "from nipype.pipeline.engine import Workflow, Node\n"
     ]
    }
   ],
   "source": [
    "print base64.b64decode('JXB5bGFiIGlubGluZQpmcm9tIG9zLnBhdGggaW1wb3J0IGpvaW4gYXMgb3BqCmZyb20gbmlweXBlLmludGVyZmFjZXMuZnNsIGltcG9ydCBNQ0ZMSVJULCBGTElSVApmcm9tIG5pcHlwZS5pbnRlcmZhY2VzLmFmbmkgaW1wb3J0IFJlc2FtcGxlCmZyb20gbmlweXBlLmludGVyZmFjZXMuc3BtIGltcG9ydCBTbW9vdGgKZnJvbSBuaXB5cGUuaW50ZXJmYWNlcy51dGlsaXR5IGltcG9ydCBJZGVudGl0eUludGVyZmFjZQpmcm9tIG5pcHlwZS5pbnRlcmZhY2VzLmlvIGltcG9ydCBTZWxlY3RGaWxlcywgRGF0YVNpbmsKZnJvbSBuaXB5cGUucGlwZWxpbmUuZW5naW5lIGltcG9ydCBXb3JrZmxvdywgTm9kZQ==')"
   ]
  },
  {
   "cell_type": "markdown",
   "metadata": {},
   "source": [
    "## Idea 2: Hide answer in file"
   ]
  },
  {
   "cell_type": "code",
   "execution_count": 39,
   "metadata": {
    "collapsed": false
   },
   "outputs": [
    {
     "name": "stdout",
     "output_type": "stream",
     "text": [
      "Writing answer01.py\n"
     ]
    }
   ],
   "source": [
    "%%file answer01.py\n",
    "%pylab inline\n",
    "from os.path import join as opj\n",
    "from nipype.interfaces.fsl import MCFLIRT, FLIRT\n",
    "from nipype.interfaces.afni import Resample\n",
    "from nipype.interfaces.spm import Smooth\n",
    "from nipype.interfaces.utility import IdentityInterface\n",
    "from nipype.interfaces.io import SelectFiles, DataSink\n",
    "from nipype.pipeline.engine import Workflow, Node"
   ]
  },
  {
   "cell_type": "code",
   "execution_count": null,
   "metadata": {
    "collapsed": false
   },
   "outputs": [],
   "source": [
    "%load answer01.py"
   ]
  }
 ],
 "metadata": {
  "kernelspec": {
   "display_name": "Python [default]",
   "language": "python",
   "name": "python2"
  },
  "language_info": {
   "codemirror_mode": {
    "name": "ipython",
    "version": 2
   },
   "file_extension": ".py",
   "mimetype": "text/x-python",
   "name": "python",
   "nbconvert_exporter": "python",
   "pygments_lexer": "ipython2",
   "version": "2.7.13"
  }
 },
 "nbformat": 4,
 "nbformat_minor": 2
}
