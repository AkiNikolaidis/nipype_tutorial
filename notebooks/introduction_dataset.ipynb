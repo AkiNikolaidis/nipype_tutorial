{
 "cells": [
  {
   "cell_type": "markdown",
   "metadata": {
    "collapsed": true,
    "deletable": true,
    "editable": true
   },
   "source": [
    "<p style=\"text-align:center\"><font size=\"20\">BRAIN IMAGING</font></p>\n",
    "<p style=\"text-align:center\"><font size=\"20\">DATA STRUCTURE</font></p>"
   ]
  },
  {
   "cell_type": "markdown",
   "metadata": {
    "deletable": true,
    "editable": true
   },
   "source": [
    "The dataset for this tutorial is structured according to the [Brain Imaging Data Structure (BIDS)](http://bids.neuroimaging.io/). BIDS is a simple and intuitive way to organize and describe your neuroimaging and behavioral data. Neuroimaging experiments result in complicated data that can be arranged in many different ways. So far there is no consensus how to organize and share data obtained in neuroimaging experiments. BIDS tackles this problem by suggesting a new standard for the arrangement of neuroimaging datasets."
   ]
  },
  {
   "cell_type": "markdown",
   "metadata": {
    "deletable": true,
    "editable": true
   },
   "source": [
    "The idea of BIDS is that the file and folder names follow a strict set of rules:\n",
    "\n",
    "![](../static/images/bids.png)\n"
   ]
  },
  {
   "cell_type": "markdown",
   "metadata": {
    "deletable": true,
    "editable": true
   },
   "source": [
    "Using the same structure for all of your studies will allow you to easily reuse all of your scripts between studies. But additionally, it also has the advantage that sharing code with and using scripts from other researchers will be much easier."
   ]
  },
  {
   "cell_type": "markdown",
   "metadata": {
    "deletable": true,
    "editable": true
   },
   "source": [
    "# Tutorial Dataset\n",
    "\n",
    "The dataset for this tutorial is coming from [https://openfmri.org/](https://openfmri.org/), a homepage dedicated to the free and open sharing of raw magnetic resonance imaging (MRI) datasets. We already downloaded the dataset [ds102](https://openfmri.org/dataset/ds000102/) into the data folder at the current location. To reduce the size of the total dataset, only the first five subjects (`sub-01`, `sub-02`, `sub-03`, `sub-04`, and `sub-05`) were kept.\n",
    "\n",
    "So let's have a look at the tutorial dataset."
   ]
  },
  {
   "cell_type": "code",
   "execution_count": null,
   "metadata": {
    "collapsed": false,
    "deletable": true,
    "editable": true
   },
   "outputs": [
    {
     "name": "stdout",
     "output_type": "stream",
     "text": [
      "/data/ds102\r\n",
      "├── CHANGES\r\n",
      "├── dataset_description.json\r\n",
      "├── participants.tsv\r\n",
      "├── README\r\n",
      "├── sub-01\r\n",
      "│   ├── anat\r\n",
      "│   │   └── sub-01_T1w.nii.gz\r\n",
      "│   └── func\r\n",
      "│       ├── sub-01_task-flanker_run-1_bold.nii.gz\r\n",
      "│       ├── sub-01_task-flanker_run-1_events.tsv\r\n",
      "│       ├── sub-01_task-flanker_run-2_bold.nii.gz\r\n",
      "│       └── sub-01_task-flanker_run-2_events.tsv\r\n",
      "├── sub-02\r\n",
      "│   ├── anat\r\n",
      "│   │   └── sub-02_T1w.nii.gz\r\n",
      "│   └── func\r\n",
      "│       ├── sub-02_task-flanker_run-1_bold.nii.gz\r\n",
      "│       ├── sub-02_task-flanker_run-1_events.tsv\r\n",
      "│       ├── sub-02_task-flanker_run-2_bold.nii.gz\r\n",
      "│       └── sub-02_task-flanker_run-2_events.tsv\r\n",
      "├── sub-03\r\n",
      "│   ├── anat\r\n",
      "│   │   └── sub-03_T1w.nii.gz\r\n",
      "│   └── func\r\n",
      "│       ├── sub-03_task-flanker_run-1_bold.nii.gz\r\n",
      "│       ├── sub-03_task-flanker_run-1_events.tsv\r\n",
      "│       ├── sub-03_task-flanker_run-2_bold.nii.gz\r\n",
      "│       └── sub-03_task-flanker_run-2_events.tsv\r\n",
      "├── sub-04\r\n",
      "│   ├── anat\r\n",
      "│   │   └── sub-04_T1w.nii.gz\r\n",
      "│   └── func\r\n",
      "│       ├── sub-04_task-flanker_run-1_bold.nii.gz\r\n",
      "│       ├── sub-04_task-flanker_run-1_events.tsv\r\n",
      "│       ├── sub-04_task-flanker_run-2_bold.nii.gz\r\n",
      "│       └── sub-04_task-flanker_run-2_events.tsv\r\n",
      "├── sub-05\r\n",
      "│   ├── anat\r\n",
      "│   │   └── sub-05_T1w.nii.gz\r\n",
      "│   └── func\r\n",
      "│       ├── sub-05_task-flanker_run-1_bold.nii.gz\r\n",
      "│       ├── sub-05_task-flanker_run-1_events.tsv\r\n",
      "│       ├── sub-05_task-flanker_run-2_bold.nii.gz\r\n",
      "│       └── sub-05_task-flanker_run-2_events.tsv\r\n",
      "├── T1w.json\r\n",
      "└── task-flanker_bold.json\r\n",
      "\r\n",
      "15 directories, 31 files\r\n"
     ]
    }
   ],
   "source": [
    "!tree /data/ds102"
   ]
  },
  {
   "cell_type": "markdown",
   "metadata": {
    "deletable": true,
    "editable": true
   },
   "source": [
    "As you can, we have five subjects, each with one anatomical T1w image and with two functional images, `run-1` and `run-2`. "
   ]
  },
  {
   "cell_type": "markdown",
   "metadata": {
    "deletable": true,
    "editable": true
   },
   "source": [
    "# Behavioral Task\n",
    "\n",
    "Subject from the ds102 dataset did the Flanker task in the scanner. They had to indicate with two buttons the direction of a central arrow in an array of 5 arrows. In **congruent** trials the flanking arrows pointed in the same direction as the central arrow (e.g., < < < < <), while in more demanding **incongruent** trials the flanking arrows pointed in the opposite direction (e.g., < < > < <).\n",
    "\n",
    "To each of the functional images above, we therefore also have a tab-separated values file (`tva`), containing information such as stimuli onset, duration, type, etc.\n",
    "\n",
    "So let's have a look at one of them:"
   ]
  },
  {
   "cell_type": "code",
   "execution_count": null,
   "metadata": {
    "collapsed": false,
    "deletable": true,
    "editable": true
   },
   "outputs": [
    {
     "name": "stdout",
     "output_type": "stream",
     "text": [
      "onset\tduration\ttrial_type\tresponse_time\tcorrectness\tStimVar\tRsponse\tStimulus\tcond\r\n",
      "0.0\t2.0\tincongruent_correct\t1.095\tcorrect\t2\t1\tincongruent\tcond003\r\n",
      "10.0\t2.0\tincongruent_correct\t0.988\tcorrect\t2\t1\tincongruent\tcond003\r\n",
      "20.0\t2.0\tcongruent_correct\t0.591\tcorrect\t1\t1\tcongruent\tcond001\r\n",
      "30.0\t2.0\tcongruent_correct\t0.499\tcorrect\t1\t1\tcongruent\tcond001\r\n",
      "40.0\t2.0\tincongruent_correct\t0.719\tcorrect\t2\t1\tincongruent\tcond003\r\n",
      "52.0\t2.0\tcongruent_correct\t0.544\tcorrect\t1\t1\tcongruent\tcond001\r\n",
      "64.0\t2.0\tcongruent_correct\t0.436\tcorrect\t1\t1\tcongruent\tcond001\r\n",
      "76.0\t2.0\tincongruent_correct\t0.47\tcorrect\t2\t1\tincongruent\tcond003\r\n",
      "88.0\t2.0\tcongruent_correct\t0.409\tcorrect\t1\t1\tcongruent\tcond001\r\n",
      "102.0\t2.0\tincongruent_correct\t0.563\tcorrect\t2\t1\tincongruent\tcond003\r\n",
      "116.0\t2.0\tcongruent_correct\t0.493\tcorrect\t1\t1\tcongruent\tcond001\r\n",
      "130.0\t2.0\tcongruent_correct\t0.398\tcorrect\t1\t1\tcongruent\tcond001\r\n",
      "140.0\t2.0\tcongruent_correct\t0.466\tcorrect\t1\t1\tcongruent\tcond001\r\n",
      "150.0\t2.0\tincongruent_correct\t0.518\tcorrect\t2\t1\tincongruent\tcond003\r\n",
      "164.0\t2.0\tincongruent_correct\t0.56\tcorrect\t2\t1\tincongruent\tcond003\r\n",
      "174.0\t2.0\tincongruent_correct\t0.533\tcorrect\t2\t1\tincongruent\tcond003\r\n",
      "184.0\t2.0\tcongruent_correct\t0.439\tcorrect\t1\t1\tcongruent\tcond001\r\n",
      "196.0\t2.0\tcongruent_correct\t0.458\tcorrect\t1\t1\tcongruent\tcond001\r\n",
      "208.0\t2.0\tincongruent_correct\t0.734\tcorrect\t2\t1\tincongruent\tcond003\r\n",
      "220.0\t2.0\tincongruent_correct\t0.479\tcorrect\t2\t1\tincongruent\tcond003\r\n",
      "232.0\t2.0\tincongruent_correct\t0.538\tcorrect\t2\t1\tincongruent\tcond003\r\n",
      "246.0\t2.0\tcongruent_correct\t0.54\tcorrect\t1\t1\tcongruent\tcond001\r\n",
      "260.0\t2.0\tincongruent_correct\t0.622\tcorrect\t2\t1\tincongruent\tcond003\r\n",
      "274.0\t2.0\tcongruent_correct\t0.488\tcorrect\t1\t1\tcongruent\tcond001\r\n"
     ]
    }
   ],
   "source": [
    "!cat /data/ds102/sub-01/func/sub-01_task-flanker_run-1_events.tsv"
   ]
  }
 ],
 "metadata": {
  "anaconda-cloud": {},
  "kernelspec": {
   "display_name": "Python [default]",
   "language": "python",
   "name": "python2"
  },
  "language_info": {
   "codemirror_mode": {
    "name": "ipython",
    "version": 2
   },
   "file_extension": ".py",
   "mimetype": "text/x-python",
   "name": "python",
   "nbconvert_exporter": "python",
   "pygments_lexer": "ipython2",
   "version": "2.7.12"
  }
 },
 "nbformat": 4,
 "nbformat_minor": 0
}
