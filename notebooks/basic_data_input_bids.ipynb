{
 "cells": [
  {
   "cell_type": "code",
   "execution_count": 1,
   "metadata": {
    "collapsed": true,
    "deletable": true,
    "editable": true
   },
   "outputs": [],
   "source": [
    "from bids.grabbids import BIDSLayout"
   ]
  },
  {
   "cell_type": "code",
   "execution_count": 2,
   "metadata": {
    "collapsed": false,
    "deletable": true,
    "editable": true
   },
   "outputs": [],
   "source": [
    "layout = BIDSLayout(\"/data/ds102/\")"
   ]
  },
  {
   "cell_type": "code",
   "execution_count": 3,
   "metadata": {
    "collapsed": false,
    "deletable": true,
    "editable": true
   },
   "outputs": [
    {
     "data": {
      "text/plain": [
       "['01', '02', '03', '04', '05']"
      ]
     },
     "execution_count": 3,
     "metadata": {},
     "output_type": "execute_result"
    }
   ],
   "source": [
    "layout.get_subjects()"
   ]
  },
  {
   "cell_type": "code",
   "execution_count": 4,
   "metadata": {
    "collapsed": false,
    "deletable": true,
    "editable": true
   },
   "outputs": [
    {
     "data": {
      "text/plain": [
       "['anat', 'func']"
      ]
     },
     "execution_count": 4,
     "metadata": {},
     "output_type": "execute_result"
    }
   ],
   "source": [
    "layout.get_modalities()"
   ]
  },
  {
   "cell_type": "code",
   "execution_count": 5,
   "metadata": {
    "collapsed": false,
    "deletable": true,
    "editable": true
   },
   "outputs": [
    {
     "data": {
      "text/plain": [
       "['bold', 'events', 'T1w']"
      ]
     },
     "execution_count": 5,
     "metadata": {},
     "output_type": "execute_result"
    }
   ],
   "source": [
    "layout.get_types()"
   ]
  },
  {
   "cell_type": "code",
   "execution_count": 6,
   "metadata": {
    "collapsed": false,
    "deletable": true,
    "editable": true
   },
   "outputs": [
    {
     "data": {
      "text/plain": [
       "['flanker']"
      ]
     },
     "execution_count": 6,
     "metadata": {},
     "output_type": "execute_result"
    }
   ],
   "source": [
    "layout.get_tasks()"
   ]
  },
  {
   "cell_type": "code",
   "execution_count": 7,
   "metadata": {
    "collapsed": false,
    "deletable": true,
    "editable": true
   },
   "outputs": [
    {
     "data": {
      "text/plain": [
       "[File(filename='/data/ds102/sub-01/anat/sub-01_T1w.nii.gz', type='T1w', modality='anat', subject='01'),\n",
       " File(filename='/data/ds102/sub-01/func/sub-01_task-flanker_run-1_bold.nii.gz', type='bold', task='flanker', run='1', modality='func', subject='01'),\n",
       " File(filename='/data/ds102/sub-01/func/sub-01_task-flanker_run-1_events.tsv', type='events', task='flanker', run='1', modality='func', subject='01'),\n",
       " File(filename='/data/ds102/sub-01/func/sub-01_task-flanker_run-2_bold.nii.gz', type='bold', task='flanker', run='2', modality='func', subject='01'),\n",
       " File(filename='/data/ds102/sub-01/func/sub-01_task-flanker_run-2_events.tsv', type='events', task='flanker', run='2', modality='func', subject='01')]"
      ]
     },
     "execution_count": 7,
     "metadata": {},
     "output_type": "execute_result"
    }
   ],
   "source": [
    "layout.get(subject='01')"
   ]
  },
  {
   "cell_type": "code",
   "execution_count": 8,
   "metadata": {
    "collapsed": false
   },
   "outputs": [
    {
     "data": {
      "text/plain": [
       "[File(filename='/data/ds102/sub-01/func/sub-01_task-flanker_run-1_bold.nii.gz', type='bold', task='flanker', run='1', modality='func', subject='01'),\n",
       " File(filename='/data/ds102/sub-01/func/sub-01_task-flanker_run-2_bold.nii.gz', type='bold', task='flanker', run='2', modality='func', subject='01')]"
      ]
     },
     "execution_count": 8,
     "metadata": {},
     "output_type": "execute_result"
    }
   ],
   "source": [
    "layout.get(subject='01', type='bold', extensions=['nii', 'nii.gz'])"
   ]
  },
  {
   "cell_type": "code",
   "execution_count": 9,
   "metadata": {
    "collapsed": false
   },
   "outputs": [
    {
     "data": {
      "text/plain": [
       "['/data/ds102/sub-01/anat/sub-01_T1w.nii.gz']"
      ]
     },
     "execution_count": 9,
     "metadata": {},
     "output_type": "execute_result"
    }
   ],
   "source": [
    "[f.filename for f in layout.get(subject='01', type='T1w', extensions=['nii', 'nii.gz'])]"
   ]
  },
  {
   "cell_type": "code",
   "execution_count": 35,
   "metadata": {
    "collapsed": false
   },
   "outputs": [],
   "source": [
    "def get_niftis(subject_id, data_dir):\n",
    "    from bids.grabbids import BIDSLayout\n",
    "    layout = BIDSLayout(data_dir)\n",
    "    bolds = [f.filename for f in layout.get(subject=subject_id, type='bold', extensions=['nii', 'nii.gz'])]\n",
    "    T1ws = [f.filename for f in layout.get(subject=subject_id, type='T1w', extensions=['nii', 'nii.gz'])]\n",
    "    return bolds, T1ws"
   ]
  },
  {
   "cell_type": "code",
   "execution_count": 36,
   "metadata": {
    "collapsed": false
   },
   "outputs": [
    {
     "data": {
      "text/plain": [
       "(['/data/ds102/sub-01/func/sub-01_task-flanker_run-1_bold.nii.gz',\n",
       "  '/data/ds102/sub-01/func/sub-01_task-flanker_run-2_bold.nii.gz'],\n",
       " ['/data/ds102/sub-01/anat/sub-01_T1w.nii.gz'])"
      ]
     },
     "execution_count": 36,
     "metadata": {},
     "output_type": "execute_result"
    }
   ],
   "source": [
    "get_niftis('01', '/data/ds102')"
   ]
  },
  {
   "cell_type": "code",
   "execution_count": 37,
   "metadata": {
    "collapsed": true
   },
   "outputs": [],
   "source": [
    "from nipype.pipeline import Node, MapNode, Workflow\n",
    "from nipype.interfaces.utility import IdentityInterface, Function"
   ]
  },
  {
   "cell_type": "code",
   "execution_count": 38,
   "metadata": {
    "collapsed": false
   },
   "outputs": [],
   "source": [
    "BIDSDataGrabber = Node(Function(function=get_niftis, input_names=[\"subject_id\",\n",
    "                                       \"data_dir\"],\n",
    "                                   output_names=[\"bolds\", \n",
    "                                        \"T1ws\"]), name=\"BIDSDataGrabber\")\n",
    "BIDSDataGrabber.inputs.data_dir = \"/data/ds102\""
   ]
  },
  {
   "cell_type": "code",
   "execution_count": 39,
   "metadata": {
    "collapsed": false
   },
   "outputs": [
    {
     "name": "stdout",
     "output_type": "stream",
     "text": [
      "170324-02:58:57,265 workflow INFO:\n",
      "\t Executing node BIDSDataGrabber in dir: /tmp/tmp1XHeba/BIDSDataGrabber\n"
     ]
    },
    {
     "data": {
      "text/plain": [
       "\n",
       "T1ws = ['/data/ds102/sub-01/anat/sub-01_T1w.nii.gz']\n",
       "bolds = ['/data/ds102/sub-01/func/sub-01_task-flanker_run-1_bold.nii.gz', '/data/ds102/sub-01/func/sub-01_task-flanker_run-2_bold.nii.gz']"
      ]
     },
     "execution_count": 39,
     "metadata": {},
     "output_type": "execute_result"
    }
   ],
   "source": [
    "BIDSDataGrabber.inputs.subject_id='01'\n",
    "res = BIDSDataGrabber.run()\n",
    "res.outputs"
   ]
  },
  {
   "cell_type": "code",
   "execution_count": 40,
   "metadata": {
    "collapsed": false
   },
   "outputs": [],
   "source": [
    "def printMe(paths):\n",
    "    print(\"\\n\\nanalyzing \" + str(paths) + \"\\n\\n\")\n",
    "    \n",
    "analyzeBOLD = Node(Function(function=printMe, input_names=[\"paths\"],\n",
    "                                   output_names=[]), name=\"analyzeBOLD\")\n",
    "\n",
    "analyzeT1w = Node(Function(function=printMe, input_names=[\"paths\"],\n",
    "                                   output_names=[]), name=\"analyzeT1w\")\n"
   ]
  },
  {
   "cell_type": "code",
   "execution_count": 41,
   "metadata": {
    "collapsed": false,
    "scrolled": true
   },
   "outputs": [
    {
     "name": "stdout",
     "output_type": "stream",
     "text": [
      "170324-02:58:59,104 workflow INFO:\n",
      "\t Workflow bids_demo settings: ['check', 'execution', 'logging']\n",
      "170324-02:58:59,213 workflow INFO:\n",
      "\t Running serially.\n",
      "170324-02:58:59,215 workflow INFO:\n",
      "\t Executing node BIDSDataGrabber in dir: /tmp/tmpNh8bYU/bids_demo/BIDSDataGrabber\n",
      "170324-02:58:59,276 workflow INFO:\n",
      "\t Executing node analyzeT1w in dir: /tmp/tmpNH7IN8/bids_demo/analyzeT1w\n",
      "\n",
      "\n",
      "analyzing ['/data/ds102/sub-01/anat/sub-01_T1w.nii.gz']\n",
      "\n",
      "\n",
      "170324-02:58:59,302 workflow INFO:\n",
      "\t Executing node analyzeBOLD in dir: /tmp/tmpHF95Mm/bids_demo/analyzeBOLD\n",
      "\n",
      "\n",
      "analyzing ['/data/ds102/sub-01/func/sub-01_task-flanker_run-1_bold.nii.gz', '/data/ds102/sub-01/func/sub-01_task-flanker_run-2_bold.nii.gz']\n",
      "\n",
      "\n"
     ]
    },
    {
     "data": {
      "text/plain": [
       "<networkx.classes.digraph.DiGraph at 0x7fa855af5bd0>"
      ]
     },
     "execution_count": 41,
     "metadata": {},
     "output_type": "execute_result"
    }
   ],
   "source": [
    "wf = Workflow(name=\"bids_demo\")\n",
    "wf.connect(BIDSDataGrabber, \"bolds\", analyzeBOLD, \"paths\")\n",
    "wf.connect(BIDSDataGrabber, \"T1ws\", analyzeT1w, \"paths\")\n",
    "wf.run()"
   ]
  },
  {
   "cell_type": "code",
   "execution_count": 42,
   "metadata": {
    "collapsed": false,
    "scrolled": false
   },
   "outputs": [
    {
     "name": "stdout",
     "output_type": "stream",
     "text": [
      "170324-02:59:05,805 workflow INFO:\n",
      "\t Workflow bids_demo settings: ['check', 'execution', 'logging']\n",
      "170324-02:59:05,923 workflow INFO:\n",
      "\t Running serially.\n",
      "170324-02:59:05,926 workflow INFO:\n",
      "\t Executing node BIDSDataGrabber.aI.a2 in dir: /tmp/tmpPju_aG/bids_demo/_subject_id_03/BIDSDataGrabber\n",
      "170324-02:59:05,989 workflow INFO:\n",
      "\t Executing node analyzeT1w.a2 in dir: /tmp/tmph4YmXJ/bids_demo/_subject_id_03/analyzeT1w\n",
      "\n",
      "\n",
      "analyzing ['/data/ds102/sub-03/anat/sub-03_T1w.nii.gz']\n",
      "\n",
      "\n",
      "170324-02:59:06,15 workflow INFO:\n",
      "\t Executing node BIDSDataGrabber.aI.a1 in dir: /tmp/tmpEVftZ4/bids_demo/_subject_id_02/BIDSDataGrabber\n",
      "170324-02:59:06,67 workflow INFO:\n",
      "\t Executing node BIDSDataGrabber.aI.a3 in dir: /tmp/tmp58bQbR/bids_demo/_subject_id_04/BIDSDataGrabber\n",
      "170324-02:59:06,129 workflow INFO:\n",
      "\t Executing node analyzeBOLD.a3 in dir: /tmp/tmp76029c/bids_demo/_subject_id_04/analyzeBOLD\n",
      "\n",
      "\n",
      "analyzing ['/data/ds102/sub-04/func/sub-04_task-flanker_run-1_bold.nii.gz', '/data/ds102/sub-04/func/sub-04_task-flanker_run-2_bold.nii.gz']\n",
      "\n",
      "\n",
      "170324-02:59:06,160 workflow INFO:\n",
      "\t Executing node BIDSDataGrabber.aI.a0 in dir: /tmp/tmpMpSx5E/bids_demo/_subject_id_01/BIDSDataGrabber\n",
      "170324-02:59:06,241 workflow INFO:\n",
      "\t Executing node analyzeBOLD.a0 in dir: /tmp/tmplWiWv6/bids_demo/_subject_id_01/analyzeBOLD\n",
      "\n",
      "\n",
      "analyzing ['/data/ds102/sub-01/func/sub-01_task-flanker_run-1_bold.nii.gz', '/data/ds102/sub-01/func/sub-01_task-flanker_run-2_bold.nii.gz']\n",
      "\n",
      "\n",
      "170324-02:59:06,263 workflow INFO:\n",
      "\t Executing node analyzeT1w.a3 in dir: /tmp/tmp_DcuVV/bids_demo/_subject_id_04/analyzeT1w\n",
      "\n",
      "\n",
      "analyzing ['/data/ds102/sub-04/anat/sub-04_T1w.nii.gz']\n",
      "\n",
      "\n",
      "170324-02:59:06,305 workflow INFO:\n",
      "\t Executing node analyzeBOLD.a2 in dir: /tmp/tmp14mhln/bids_demo/_subject_id_03/analyzeBOLD\n",
      "\n",
      "\n",
      "analyzing ['/data/ds102/sub-03/func/sub-03_task-flanker_run-1_bold.nii.gz', '/data/ds102/sub-03/func/sub-03_task-flanker_run-2_bold.nii.gz']\n",
      "\n",
      "\n",
      "170324-02:59:06,360 workflow INFO:\n",
      "\t Executing node BIDSDataGrabber.aI.a4 in dir: /tmp/tmpS1r9BT/bids_demo/_subject_id_05/BIDSDataGrabber\n",
      "170324-02:59:06,438 workflow INFO:\n",
      "\t Executing node analyzeBOLD.a4 in dir: /tmp/tmpGrK8ir/bids_demo/_subject_id_05/analyzeBOLD\n",
      "\n",
      "\n",
      "analyzing ['/data/ds102/sub-05/func/sub-05_task-flanker_run-1_bold.nii.gz', '/data/ds102/sub-05/func/sub-05_task-flanker_run-2_bold.nii.gz']\n",
      "\n",
      "\n",
      "170324-02:59:06,472 workflow INFO:\n",
      "\t Executing node analyzeT1w.a4 in dir: /tmp/tmp_ZlViZ/bids_demo/_subject_id_05/analyzeT1w\n",
      "\n",
      "\n",
      "analyzing ['/data/ds102/sub-05/anat/sub-05_T1w.nii.gz']\n",
      "\n",
      "\n",
      "170324-02:59:06,519 workflow INFO:\n",
      "\t Executing node analyzeBOLD.a1 in dir: /tmp/tmpfJzGSn/bids_demo/_subject_id_02/analyzeBOLD\n",
      "\n",
      "\n",
      "analyzing ['/data/ds102/sub-02/func/sub-02_task-flanker_run-1_bold.nii.gz', '/data/ds102/sub-02/func/sub-02_task-flanker_run-2_bold.nii.gz']\n",
      "\n",
      "\n",
      "170324-02:59:06,569 workflow INFO:\n",
      "\t Executing node analyzeT1w.a0 in dir: /tmp/tmpyPMfQF/bids_demo/_subject_id_01/analyzeT1w\n",
      "\n",
      "\n",
      "analyzing ['/data/ds102/sub-01/anat/sub-01_T1w.nii.gz']\n",
      "\n",
      "\n",
      "170324-02:59:06,615 workflow INFO:\n",
      "\t Executing node analyzeT1w.a1 in dir: /tmp/tmp0FXLjd/bids_demo/_subject_id_02/analyzeT1w\n",
      "\n",
      "\n",
      "analyzing ['/data/ds102/sub-02/anat/sub-02_T1w.nii.gz']\n",
      "\n",
      "\n"
     ]
    },
    {
     "data": {
      "text/plain": [
       "<networkx.classes.digraph.DiGraph at 0x7fa855acad90>"
      ]
     },
     "execution_count": 42,
     "metadata": {},
     "output_type": "execute_result"
    }
   ],
   "source": [
    "BIDSDataGrabber.iterables = ('subject_id', layout.get_subjects())\n",
    "wf.run()"
   ]
  },
  {
   "cell_type": "code",
   "execution_count": 43,
   "metadata": {
    "collapsed": false
   },
   "outputs": [
    {
     "data": {
      "text/plain": [
       "{u'CogAtlasID': u'tsk_4a57abb949a4f',\n",
       " u'EchoTime': 0.03,\n",
       " u'FlipAngle': 80.0,\n",
       " u'MRAcquisitionType': u'2D',\n",
       " u'MagneticFieldStrength': 3.0,\n",
       " u'Manufacturer': u'Siemens',\n",
       " u'ManufacturerModelName': u'Allegra',\n",
       " u'RepetitionTime': 2.0,\n",
       " u'ScanningSequence': u'Echo Planar',\n",
       " u'TaskDescription': u'On each trial (inter-trial interval (ITI) varied between 8 s and 14 s; mean ITI=12 s),participants used one of two buttons on a response pad to indicate the direction of a central arrow in an array of 5 arrows. In congruent trials the flanking arrows pointed in the same direction as the central arrow (e.g., < < < < <), while in more demanding incongruent trials the flanking arrows pointed in the opposite direction (e.g., < < > < <). Subjects performed two 5-minute blocks, each containing 12 congruent and 12 incongruent trials, presented in a pseudorandom order.',\n",
       " u'TaskName': u'Flanker'}"
      ]
     },
     "execution_count": 43,
     "metadata": {},
     "output_type": "execute_result"
    }
   ],
   "source": [
    "layout.get_metadata('/data/ds102/sub-01/func/sub-01_task-flanker_run-1_bold.nii.gz')"
   ]
  },
  {
   "cell_type": "code",
   "execution_count": 44,
   "metadata": {
    "collapsed": true
   },
   "outputs": [],
   "source": [
    "def printMetadata(path, data_dir):\n",
    "    from bids.grabbids import BIDSLayout\n",
    "    layout = BIDSLayout(data_dir)\n",
    "    print(\"\\n\\nanalyzing \" + path + \"\\nTR: \"+ str(layout.get_metadata(path)[\"RepetitionTime\"]) + \"\\n\\n\")\n",
    "    \n",
    "analyzeBOLD2 = MapNode(Function(function=printMetadata, input_names=[\"path\", \"data_dir\"],\n",
    "                             output_names=[]), name=\"analyzeBOLD2\", iterfield=\"path\")\n",
    "analyzeBOLD2.inputs.data_dir = \"/data/ds102/\""
   ]
  },
  {
   "cell_type": "code",
   "execution_count": 45,
   "metadata": {
    "collapsed": false,
    "scrolled": false
   },
   "outputs": [
    {
     "name": "stdout",
     "output_type": "stream",
     "text": [
      "170324-02:59:09,793 workflow INFO:\n",
      "\t Workflow bids_demo settings: ['check', 'execution', 'logging']\n",
      "170324-02:59:09,919 workflow INFO:\n",
      "\t Running serially.\n",
      "170324-02:59:09,922 workflow INFO:\n",
      "\t Executing node BIDSDataGrabber.aI.a1 in dir: /tmp/tmpxXSj_M/bids_demo/_subject_id_02/BIDSDataGrabber\n",
      "170324-02:59:09,977 workflow INFO:\n",
      "\t Executing node BIDSDataGrabber.aI.a4 in dir: /tmp/tmpBw6kUG/bids_demo/_subject_id_05/BIDSDataGrabber\n",
      "170324-02:59:10,56 workflow INFO:\n",
      "\t Executing node analyzeT1w.a4 in dir: /tmp/tmpkQ3sOk/bids_demo/_subject_id_05/analyzeT1w\n",
      "\n",
      "\n",
      "analyzing ['/data/ds102/sub-05/anat/sub-05_T1w.nii.gz']\n",
      "\n",
      "\n",
      "170324-02:59:10,80 workflow INFO:\n",
      "\t Executing node analyzeT1w.a1 in dir: /tmp/tmpyh5HdP/bids_demo/_subject_id_02/analyzeT1w\n",
      "\n",
      "\n",
      "analyzing ['/data/ds102/sub-02/anat/sub-02_T1w.nii.gz']\n",
      "\n",
      "\n",
      "170324-02:59:10,119 workflow INFO:\n",
      "\t Executing node analyzeBOLD2.a4 in dir: /tmp/tmp74V8Ry/bids_demo/_subject_id_05/analyzeBOLD2\n",
      "170324-02:59:10,138 workflow INFO:\n",
      "\t Executing node _analyzeBOLD20 in dir: /tmp/tmp74V8Ry/bids_demo/_subject_id_05/analyzeBOLD2/mapflow/_analyzeBOLD20\n",
      "\n",
      "\n",
      "analyzing /data/ds102/sub-05/func/sub-05_task-flanker_run-1_bold.nii.gz\n",
      "TR: 2.0\n",
      "\n",
      "\n",
      "170324-02:59:10,207 workflow INFO:\n",
      "\t Executing node _analyzeBOLD21 in dir: /tmp/tmp74V8Ry/bids_demo/_subject_id_05/analyzeBOLD2/mapflow/_analyzeBOLD21\n",
      "\n",
      "\n",
      "analyzing /data/ds102/sub-05/func/sub-05_task-flanker_run-2_bold.nii.gz\n",
      "TR: 2.0\n",
      "\n",
      "\n",
      "170324-02:59:10,292 workflow INFO:\n",
      "\t Executing node BIDSDataGrabber.aI.a2 in dir: /tmp/tmp7Xcb0_/bids_demo/_subject_id_03/BIDSDataGrabber\n",
      "170324-02:59:10,363 workflow INFO:\n",
      "\t Executing node analyzeBOLD2.a2 in dir: /tmp/tmpLExfBf/bids_demo/_subject_id_03/analyzeBOLD2\n",
      "170324-02:59:10,399 workflow INFO:\n",
      "\t Executing node _analyzeBOLD20 in dir: /tmp/tmpLExfBf/bids_demo/_subject_id_03/analyzeBOLD2/mapflow/_analyzeBOLD20\n",
      "\n",
      "\n",
      "analyzing /data/ds102/sub-03/func/sub-03_task-flanker_run-1_bold.nii.gz\n",
      "TR: 2.0\n",
      "\n",
      "\n",
      "170324-02:59:10,456 workflow INFO:\n",
      "\t Executing node _analyzeBOLD21 in dir: /tmp/tmpLExfBf/bids_demo/_subject_id_03/analyzeBOLD2/mapflow/_analyzeBOLD21\n",
      "\n",
      "\n",
      "analyzing /data/ds102/sub-03/func/sub-03_task-flanker_run-2_bold.nii.gz\n",
      "TR: 2.0\n",
      "\n",
      "\n",
      "170324-02:59:10,528 workflow INFO:\n",
      "\t Executing node BIDSDataGrabber.aI.a3 in dir: /tmp/tmp1C4TlI/bids_demo/_subject_id_04/BIDSDataGrabber\n",
      "170324-02:59:10,603 workflow INFO:\n",
      "\t Executing node BIDSDataGrabber.aI.a0 in dir: /tmp/tmpjjNbaP/bids_demo/_subject_id_01/BIDSDataGrabber\n",
      "170324-02:59:10,658 workflow INFO:\n",
      "\t Executing node analyzeBOLD2.a0 in dir: /tmp/tmpkHp7QR/bids_demo/_subject_id_01/analyzeBOLD2\n",
      "170324-02:59:10,683 workflow INFO:\n",
      "\t Executing node _analyzeBOLD20 in dir: /tmp/tmpkHp7QR/bids_demo/_subject_id_01/analyzeBOLD2/mapflow/_analyzeBOLD20\n",
      "\n",
      "\n",
      "analyzing /data/ds102/sub-01/func/sub-01_task-flanker_run-1_bold.nii.gz\n",
      "TR: 2.0\n",
      "\n",
      "\n",
      "170324-02:59:10,728 workflow INFO:\n",
      "\t Executing node _analyzeBOLD21 in dir: /tmp/tmpkHp7QR/bids_demo/_subject_id_01/analyzeBOLD2/mapflow/_analyzeBOLD21\n",
      "\n",
      "\n",
      "analyzing /data/ds102/sub-01/func/sub-01_task-flanker_run-2_bold.nii.gz\n",
      "TR: 2.0\n",
      "\n",
      "\n",
      "170324-02:59:10,798 workflow INFO:\n",
      "\t Executing node analyzeT1w.a0 in dir: /tmp/tmpTDXIf0/bids_demo/_subject_id_01/analyzeT1w\n",
      "\n",
      "\n",
      "analyzing ['/data/ds102/sub-01/anat/sub-01_T1w.nii.gz']\n",
      "\n",
      "\n",
      "170324-02:59:10,835 workflow INFO:\n",
      "\t Executing node analyzeT1w.a2 in dir: /tmp/tmpG8AiM1/bids_demo/_subject_id_03/analyzeT1w\n",
      "\n",
      "\n",
      "analyzing ['/data/ds102/sub-03/anat/sub-03_T1w.nii.gz']\n",
      "\n",
      "\n",
      "170324-02:59:10,891 workflow INFO:\n",
      "\t Executing node analyzeBOLD2.a3 in dir: /tmp/tmp0021td/bids_demo/_subject_id_04/analyzeBOLD2\n",
      "170324-02:59:10,928 workflow INFO:\n",
      "\t Executing node _analyzeBOLD20 in dir: /tmp/tmp0021td/bids_demo/_subject_id_04/analyzeBOLD2/mapflow/_analyzeBOLD20\n",
      "\n",
      "\n",
      "analyzing /data/ds102/sub-04/func/sub-04_task-flanker_run-1_bold.nii.gz\n",
      "TR: 2.0\n",
      "\n",
      "\n",
      "170324-02:59:10,983 workflow INFO:\n",
      "\t Executing node _analyzeBOLD21 in dir: /tmp/tmp0021td/bids_demo/_subject_id_04/analyzeBOLD2/mapflow/_analyzeBOLD21\n",
      "\n",
      "\n",
      "analyzing /data/ds102/sub-04/func/sub-04_task-flanker_run-2_bold.nii.gz\n",
      "TR: 2.0\n",
      "\n",
      "\n",
      "170324-02:59:11,54 workflow INFO:\n",
      "\t Executing node analyzeBOLD2.a1 in dir: /tmp/tmpvvAYeK/bids_demo/_subject_id_02/analyzeBOLD2\n",
      "170324-02:59:11,98 workflow INFO:\n",
      "\t Executing node _analyzeBOLD20 in dir: /tmp/tmpvvAYeK/bids_demo/_subject_id_02/analyzeBOLD2/mapflow/_analyzeBOLD20\n",
      "\n",
      "\n",
      "analyzing /data/ds102/sub-02/func/sub-02_task-flanker_run-1_bold.nii.gz\n",
      "TR: 2.0\n",
      "\n",
      "\n",
      "170324-02:59:11,170 workflow INFO:\n",
      "\t Executing node _analyzeBOLD21 in dir: /tmp/tmpvvAYeK/bids_demo/_subject_id_02/analyzeBOLD2/mapflow/_analyzeBOLD21\n",
      "\n",
      "\n",
      "analyzing /data/ds102/sub-02/func/sub-02_task-flanker_run-2_bold.nii.gz\n",
      "TR: 2.0\n",
      "\n",
      "\n",
      "170324-02:59:11,247 workflow INFO:\n",
      "\t Executing node analyzeT1w.a3 in dir: /tmp/tmp4DRJzP/bids_demo/_subject_id_04/analyzeT1w\n",
      "\n",
      "\n",
      "analyzing ['/data/ds102/sub-04/anat/sub-04_T1w.nii.gz']\n",
      "\n",
      "\n"
     ]
    },
    {
     "data": {
      "text/plain": [
       "<networkx.classes.digraph.DiGraph at 0x7fa855af5350>"
      ]
     },
     "execution_count": 45,
     "metadata": {},
     "output_type": "execute_result"
    }
   ],
   "source": [
    "wf = Workflow(name=\"bids_demo\")\n",
    "wf.connect(BIDSDataGrabber, \"bolds\", analyzeBOLD2, \"path\")\n",
    "wf.connect(BIDSDataGrabber, \"T1ws\", analyzeT1w, \"paths\")\n",
    "wf.run()"
   ]
  },
  {
   "cell_type": "code",
   "execution_count": null,
   "metadata": {
    "collapsed": true
   },
   "outputs": [],
   "source": []
  },
  {
   "cell_type": "code",
   "execution_count": null,
   "metadata": {
    "collapsed": true
   },
   "outputs": [],
   "source": []
  }
 ],
 "metadata": {
  "kernelspec": {
   "display_name": "Python [default]",
   "language": "python",
   "name": "python2"
  },
  "language_info": {
   "codemirror_mode": {
    "name": "ipython",
    "version": 2
   },
   "file_extension": ".py",
   "mimetype": "text/x-python",
   "name": "python",
   "nbconvert_exporter": "python",
   "pygments_lexer": "ipython2",
   "version": "2.7.12"
  }
 },
 "nbformat": 4,
 "nbformat_minor": 2
}
