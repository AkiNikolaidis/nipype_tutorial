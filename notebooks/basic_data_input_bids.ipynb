{
 "cells": [
  {
   "cell_type": "markdown",
   "metadata": {},
   "source": [
    "## Data input for BIDS datasets\n",
    "`DataGrabber` and `SelectFiles` are great if you are dealing with generic datasets with arbitrary organization. However if you have decided to use Brain Imaging Data Structure (BIDS) to organized your data (or got your hands on a BIDS dataset) you can take advanted of a formal structure BIDS imposes. In this short tutorial you will learn how to do this."
   ]
  },
  {
   "cell_type": "markdown",
   "metadata": {},
   "source": [
    "## `pybids` - a Python API for working with BIDS datasets\n",
    "`pybids` is a lightweight python API for querying BIDS folder structure for specific files and metadata. You can install it from PyPi:\n",
    "```\n",
    "pip install bids\n",
    "```\n",
    "Please note it should be already installed in the tutorial Docker image."
   ]
  },
  {
   "cell_type": "markdown",
   "metadata": {},
   "source": [
    "## The `layout` object and simple queries\n",
    "To begin working with pubids we need to initalize a layout object. We will need it to do all of our queries"
   ]
  },
  {
   "cell_type": "code",
   "execution_count": 1,
   "metadata": {
    "collapsed": true,
    "deletable": true,
    "editable": true
   },
   "outputs": [],
   "source": [
    "from bids.grabbids import BIDSLayout\n",
    "layout = BIDSLayout(\"/data/ds102/\")"
   ]
  },
  {
   "cell_type": "markdown",
   "metadata": {
    "collapsed": false,
    "deletable": true,
    "editable": true
   },
   "source": [
    "Let's figure out what are the subject labels in this dataset"
   ]
  },
  {
   "cell_type": "code",
   "execution_count": 2,
   "metadata": {
    "collapsed": false,
    "deletable": true,
    "editable": true
   },
   "outputs": [
    {
     "data": {
      "text/plain": [
       "['01', '02', '03', '04', '05']"
      ]
     },
     "execution_count": 2,
     "metadata": {},
     "output_type": "execute_result"
    }
   ],
   "source": [
    "layout.get_subjects()"
   ]
  },
  {
   "cell_type": "markdown",
   "metadata": {},
   "source": [
    "What modalities are included in this dataset?"
   ]
  },
  {
   "cell_type": "code",
   "execution_count": 3,
   "metadata": {
    "collapsed": false,
    "deletable": true,
    "editable": true
   },
   "outputs": [
    {
     "data": {
      "text/plain": [
       "['anat', 'func']"
      ]
     },
     "execution_count": 3,
     "metadata": {},
     "output_type": "execute_result"
    }
   ],
   "source": [
    "layout.get_modalities()"
   ]
  },
  {
   "cell_type": "markdown",
   "metadata": {},
   "source": [
    "What different data types are included in this dataset?"
   ]
  },
  {
   "cell_type": "code",
   "execution_count": 4,
   "metadata": {
    "collapsed": false,
    "deletable": true,
    "editable": true
   },
   "outputs": [
    {
     "data": {
      "text/plain": [
       "['bold', 'events', 'T1w']"
      ]
     },
     "execution_count": 4,
     "metadata": {},
     "output_type": "execute_result"
    }
   ],
   "source": [
    "layout.get_types()"
   ]
  },
  {
   "cell_type": "code",
   "execution_count": 5,
   "metadata": {
    "collapsed": false,
    "deletable": true,
    "editable": true
   },
   "outputs": [
    {
     "data": {
      "text/plain": [
       "['bold', 'events']"
      ]
     },
     "execution_count": 5,
     "metadata": {},
     "output_type": "execute_result"
    }
   ],
   "source": [
    "layout.get_types(modality='func')"
   ]
  },
  {
   "cell_type": "markdown",
   "metadata": {},
   "source": [
    "What are the different tasks included in this dataset?"
   ]
  },
  {
   "cell_type": "code",
   "execution_count": 6,
   "metadata": {
    "collapsed": false,
    "deletable": true,
    "editable": true
   },
   "outputs": [
    {
     "data": {
      "text/plain": [
       "['flanker']"
      ]
     },
     "execution_count": 6,
     "metadata": {},
     "output_type": "execute_result"
    }
   ],
   "source": [
    "layout.get_tasks()"
   ]
  },
  {
   "cell_type": "markdown",
   "metadata": {},
   "source": [
    "We can also ask for all of the data for a particular subject."
   ]
  },
  {
   "cell_type": "code",
   "execution_count": 7,
   "metadata": {
    "collapsed": false,
    "deletable": true,
    "editable": true
   },
   "outputs": [
    {
     "data": {
      "text/plain": [
       "[File(filename='/data/ds102/sub-01/anat/sub-01_T1w.nii.gz', type='T1w', modality='anat', subject='01'),\n",
       " File(filename='/data/ds102/sub-01/func/sub-01_task-flanker_run-1_bold.nii.gz', type='bold', task='flanker', run='1', modality='func', subject='01'),\n",
       " File(filename='/data/ds102/sub-01/func/sub-01_task-flanker_run-1_events.tsv', type='events', task='flanker', run='1', modality='func', subject='01'),\n",
       " File(filename='/data/ds102/sub-01/func/sub-01_task-flanker_run-2_bold.nii.gz', type='bold', task='flanker', run='2', modality='func', subject='01'),\n",
       " File(filename='/data/ds102/sub-01/func/sub-01_task-flanker_run-2_events.tsv', type='events', task='flanker', run='2', modality='func', subject='01')]"
      ]
     },
     "execution_count": 7,
     "metadata": {},
     "output_type": "execute_result"
    }
   ],
   "source": [
    "layout.get(subject='01')"
   ]
  },
  {
   "cell_type": "markdown",
   "metadata": {},
   "source": [
    "We can also ask for a specific subset of data. Note that we are using extension filter to get just the imaging data (BIDS allows both .nii and .nii.gz so we need to include both)."
   ]
  },
  {
   "cell_type": "code",
   "execution_count": 8,
   "metadata": {
    "collapsed": false,
    "deletable": true,
    "editable": true
   },
   "outputs": [
    {
     "data": {
      "text/plain": [
       "[File(filename='/data/ds102/sub-01/func/sub-01_task-flanker_run-1_bold.nii.gz', type='bold', task='flanker', run='1', modality='func', subject='01'),\n",
       " File(filename='/data/ds102/sub-01/func/sub-01_task-flanker_run-2_bold.nii.gz', type='bold', task='flanker', run='2', modality='func', subject='01')]"
      ]
     },
     "execution_count": 8,
     "metadata": {},
     "output_type": "execute_result"
    }
   ],
   "source": [
    "layout.get(subject='01', type='bold', extensions=['nii', 'nii.gz'])"
   ]
  },
  {
   "cell_type": "markdown",
   "metadata": {},
   "source": [
    "You probably noticed that this method does not only return the file paths, but objects with relevant query fields. We can easily extract just the file paths."
   ]
  },
  {
   "cell_type": "code",
   "execution_count": 9,
   "metadata": {
    "collapsed": false,
    "deletable": true,
    "editable": true
   },
   "outputs": [
    {
     "data": {
      "text/plain": [
       "['/data/ds102/sub-01/anat/sub-01_T1w.nii.gz']"
      ]
     },
     "execution_count": 9,
     "metadata": {},
     "output_type": "execute_result"
    }
   ],
   "source": [
    "[f.filename for f in layout.get(subject='01', type='T1w', extensions=['nii', 'nii.gz'])]"
   ]
  },
  {
   "cell_type": "markdown",
   "metadata": {},
   "source": [
    "## Including `pybids` in your `nipype` workflow\n",
    "This is great, but what we really want is to include this into our `nipype` workflows. How to do this? We can create our own custom `BIDSDataGrabber` using a `Function` Interface. First we need a plain Python function that for a given subject label and dataset location will return list of BOLD and T1w files."
   ]
  },
  {
   "cell_type": "code",
   "execution_count": 10,
   "metadata": {
    "collapsed": false,
    "deletable": true,
    "editable": true
   },
   "outputs": [],
   "source": [
    "def get_niftis(subject_id, data_dir):\n",
    "    # Remember that all the necesary imports need to be INSIDE the function for the Function Interface to work!\n",
    "    from bids.grabbids import BIDSLayout\n",
    "    \n",
    "    layout = BIDSLayout(data_dir)\n",
    "    \n",
    "    bolds = [f.filename for f in layout.get(subject=subject_id, type='bold', extensions=['nii', 'nii.gz'])]\n",
    "    T1ws = [f.filename for f in layout.get(subject=subject_id, type='T1w', extensions=['nii', 'nii.gz'])]\n",
    "    \n",
    "    return bolds, T1ws"
   ]
  },
  {
   "cell_type": "code",
   "execution_count": 11,
   "metadata": {
    "collapsed": false,
    "deletable": true,
    "editable": true
   },
   "outputs": [
    {
     "data": {
      "text/plain": [
       "(['/data/ds102/sub-01/func/sub-01_task-flanker_run-1_bold.nii.gz',\n",
       "  '/data/ds102/sub-01/func/sub-01_task-flanker_run-2_bold.nii.gz'],\n",
       " ['/data/ds102/sub-01/anat/sub-01_T1w.nii.gz'])"
      ]
     },
     "execution_count": 11,
     "metadata": {},
     "output_type": "execute_result"
    }
   ],
   "source": [
    "get_niftis('01', '/data/ds102')"
   ]
  },
  {
   "cell_type": "markdown",
   "metadata": {},
   "source": [
    "Ok we got our function. Now we need to wrap it inside a Node object."
   ]
  },
  {
   "cell_type": "code",
   "execution_count": 12,
   "metadata": {
    "collapsed": true,
    "deletable": true,
    "editable": true
   },
   "outputs": [],
   "source": [
    "from nipype.pipeline import Node, MapNode, Workflow\n",
    "from nipype.interfaces.utility import IdentityInterface, Function"
   ]
  },
  {
   "cell_type": "code",
   "execution_count": 13,
   "metadata": {
    "collapsed": false,
    "deletable": true,
    "editable": true
   },
   "outputs": [],
   "source": [
    "BIDSDataGrabber = Node(Function(function=get_niftis, input_names=[\"subject_id\",\n",
    "                                       \"data_dir\"],\n",
    "                                   output_names=[\"bolds\", \n",
    "                                        \"T1ws\"]), name=\"BIDSDataGrabber\")\n",
    "BIDSDataGrabber.inputs.data_dir = \"/data/ds102\""
   ]
  },
  {
   "cell_type": "code",
   "execution_count": 14,
   "metadata": {
    "collapsed": false,
    "deletable": true,
    "editable": true
   },
   "outputs": [
    {
     "name": "stdout",
     "output_type": "stream",
     "text": [
      "170324-16:47:04,997 workflow INFO:\n",
      "\t Executing node BIDSDataGrabber in dir: /tmp/tmpsAYO9O/BIDSDataGrabber\n"
     ]
    },
    {
     "data": {
      "text/plain": [
       "\n",
       "T1ws = ['/data/ds102/sub-01/anat/sub-01_T1w.nii.gz']\n",
       "bolds = ['/data/ds102/sub-01/func/sub-01_task-flanker_run-1_bold.nii.gz', '/data/ds102/sub-01/func/sub-01_task-flanker_run-2_bold.nii.gz']"
      ]
     },
     "execution_count": 14,
     "metadata": {},
     "output_type": "execute_result"
    }
   ],
   "source": [
    "BIDSDataGrabber.inputs.subject_id='01'\n",
    "res = BIDSDataGrabber.run()\n",
    "res.outputs"
   ]
  },
  {
   "cell_type": "markdown",
   "metadata": {},
   "source": [
    "Works like a charm! (hopefully :) Lets put it in a workflow. We are not going to analyze any data, but for demostrantion purposes we will add a couple of nodes that pretend to analyze their inputs"
   ]
  },
  {
   "cell_type": "code",
   "execution_count": 15,
   "metadata": {
    "collapsed": false,
    "deletable": true,
    "editable": true
   },
   "outputs": [],
   "source": [
    "def printMe(paths):\n",
    "    print(\"\\n\\nanalyzing \" + str(paths) + \"\\n\\n\")\n",
    "    \n",
    "analyzeBOLD = Node(Function(function=printMe, input_names=[\"paths\"],\n",
    "                                   output_names=[]), name=\"analyzeBOLD\")\n",
    "\n",
    "analyzeT1w = Node(Function(function=printMe, input_names=[\"paths\"],\n",
    "                                   output_names=[]), name=\"analyzeT1w\")\n"
   ]
  },
  {
   "cell_type": "code",
   "execution_count": 16,
   "metadata": {
    "collapsed": false,
    "deletable": true,
    "editable": true,
    "scrolled": true
   },
   "outputs": [
    {
     "name": "stdout",
     "output_type": "stream",
     "text": [
      "170324-16:47:05,273 workflow INFO:\n",
      "\t Workflow bids_demo settings: ['check', 'execution', 'logging']\n",
      "170324-16:47:05,437 workflow INFO:\n",
      "\t Running serially.\n",
      "170324-16:47:05,438 workflow INFO:\n",
      "\t Executing node BIDSDataGrabber in dir: /tmp/tmpE9XT25/bids_demo/BIDSDataGrabber\n",
      "170324-16:47:05,483 workflow INFO:\n",
      "\t Executing node analyzeBOLD in dir: /tmp/tmpfQYORd/bids_demo/analyzeBOLD\n",
      "\n",
      "\n",
      "analyzing ['/data/ds102/sub-01/func/sub-01_task-flanker_run-1_bold.nii.gz', '/data/ds102/sub-01/func/sub-01_task-flanker_run-2_bold.nii.gz']\n",
      "\n",
      "\n",
      "170324-16:47:05,513 workflow INFO:\n",
      "\t Executing node analyzeT1w in dir: /tmp/tmp8YkknY/bids_demo/analyzeT1w\n",
      "\n",
      "\n",
      "analyzing ['/data/ds102/sub-01/anat/sub-01_T1w.nii.gz']\n",
      "\n",
      "\n"
     ]
    },
    {
     "data": {
      "text/plain": [
       "<networkx.classes.digraph.DiGraph at 0x7f64060a6c50>"
      ]
     },
     "execution_count": 16,
     "metadata": {},
     "output_type": "execute_result"
    }
   ],
   "source": [
    "wf = Workflow(name=\"bids_demo\")\n",
    "wf.connect(BIDSDataGrabber, \"bolds\", analyzeBOLD, \"paths\")\n",
    "wf.connect(BIDSDataGrabber, \"T1ws\", analyzeT1w, \"paths\")\n",
    "wf.run()"
   ]
  },
  {
   "cell_type": "markdown",
   "metadata": {},
   "source": [
    "## Iterating over subject labels\n",
    "In the previous example we demostrated how to use `pybids` to \"analyze\" one subject. How can we scale it for all subjects? Easy - using `iterables`."
   ]
  },
  {
   "cell_type": "code",
   "execution_count": 17,
   "metadata": {
    "collapsed": false,
    "deletable": true,
    "editable": true,
    "scrolled": false
   },
   "outputs": [
    {
     "name": "stdout",
     "output_type": "stream",
     "text": [
      "170324-16:47:05,572 workflow INFO:\n",
      "\t Workflow bids_demo settings: ['check', 'execution', 'logging']\n",
      "170324-16:47:05,753 workflow INFO:\n",
      "\t Running serially.\n",
      "170324-16:47:05,757 workflow INFO:\n",
      "\t Executing node BIDSDataGrabber.aI.a3 in dir: /tmp/tmp8BCLDf/bids_demo/_subject_id_04/BIDSDataGrabber\n",
      "170324-16:47:05,826 workflow INFO:\n",
      "\t Executing node BIDSDataGrabber.aI.a0 in dir: /tmp/tmpUxqmKs/bids_demo/_subject_id_01/BIDSDataGrabber\n",
      "170324-16:47:05,896 workflow INFO:\n",
      "\t Executing node analyzeBOLD.a0 in dir: /tmp/tmp8SXshs/bids_demo/_subject_id_01/analyzeBOLD\n",
      "\n",
      "\n",
      "analyzing ['/data/ds102/sub-01/func/sub-01_task-flanker_run-1_bold.nii.gz', '/data/ds102/sub-01/func/sub-01_task-flanker_run-2_bold.nii.gz']\n",
      "\n",
      "\n",
      "170324-16:47:05,920 workflow INFO:\n",
      "\t Executing node analyzeBOLD.a3 in dir: /tmp/tmpQk6EGe/bids_demo/_subject_id_04/analyzeBOLD\n",
      "\n",
      "\n",
      "analyzing ['/data/ds102/sub-04/func/sub-04_task-flanker_run-1_bold.nii.gz', '/data/ds102/sub-04/func/sub-04_task-flanker_run-2_bold.nii.gz']\n",
      "\n",
      "\n",
      "170324-16:47:05,975 workflow INFO:\n",
      "\t Executing node analyzeT1w.a0 in dir: /tmp/tmp1Z1SJ6/bids_demo/_subject_id_01/analyzeT1w\n",
      "\n",
      "\n",
      "analyzing ['/data/ds102/sub-01/anat/sub-01_T1w.nii.gz']\n",
      "\n",
      "\n",
      "170324-16:47:06,22 workflow INFO:\n",
      "\t Executing node analyzeT1w.a3 in dir: /tmp/tmpOfa_oc/bids_demo/_subject_id_04/analyzeT1w\n",
      "\n",
      "\n",
      "analyzing ['/data/ds102/sub-04/anat/sub-04_T1w.nii.gz']\n",
      "\n",
      "\n",
      "170324-16:47:06,63 workflow INFO:\n",
      "\t Executing node BIDSDataGrabber.aI.a1 in dir: /tmp/tmpHuRRIx/bids_demo/_subject_id_02/BIDSDataGrabber\n",
      "170324-16:47:06,117 workflow INFO:\n",
      "\t Executing node BIDSDataGrabber.aI.a4 in dir: /tmp/tmpCaS_xl/bids_demo/_subject_id_05/BIDSDataGrabber\n",
      "170324-16:47:06,171 workflow INFO:\n",
      "\t Executing node analyzeT1w.a4 in dir: /tmp/tmp8KBmaT/bids_demo/_subject_id_05/analyzeT1w\n",
      "\n",
      "\n",
      "analyzing ['/data/ds102/sub-05/anat/sub-05_T1w.nii.gz']\n",
      "\n",
      "\n",
      "170324-16:47:06,199 workflow INFO:\n",
      "\t Executing node BIDSDataGrabber.aI.a2 in dir: /tmp/tmpk3LT4l/bids_demo/_subject_id_03/BIDSDataGrabber\n",
      "170324-16:47:06,255 workflow INFO:\n",
      "\t Executing node analyzeT1w.a2 in dir: /tmp/tmpStWfNV/bids_demo/_subject_id_03/analyzeT1w\n",
      "\n",
      "\n",
      "analyzing ['/data/ds102/sub-03/anat/sub-03_T1w.nii.gz']\n",
      "\n",
      "\n",
      "170324-16:47:06,279 workflow INFO:\n",
      "\t Executing node analyzeBOLD.a2 in dir: /tmp/tmpapDDOU/bids_demo/_subject_id_03/analyzeBOLD\n",
      "\n",
      "\n",
      "analyzing ['/data/ds102/sub-03/func/sub-03_task-flanker_run-1_bold.nii.gz', '/data/ds102/sub-03/func/sub-03_task-flanker_run-2_bold.nii.gz']\n",
      "\n",
      "\n",
      "170324-16:47:06,327 workflow INFO:\n",
      "\t Executing node analyzeT1w.a1 in dir: /tmp/tmpWhAfcq/bids_demo/_subject_id_02/analyzeT1w\n",
      "\n",
      "\n",
      "analyzing ['/data/ds102/sub-02/anat/sub-02_T1w.nii.gz']\n",
      "\n",
      "\n",
      "170324-16:47:06,369 workflow INFO:\n",
      "\t Executing node analyzeBOLD.a4 in dir: /tmp/tmpl0rSeP/bids_demo/_subject_id_05/analyzeBOLD\n",
      "\n",
      "\n",
      "analyzing ['/data/ds102/sub-05/func/sub-05_task-flanker_run-1_bold.nii.gz', '/data/ds102/sub-05/func/sub-05_task-flanker_run-2_bold.nii.gz']\n",
      "\n",
      "\n",
      "170324-16:47:06,407 workflow INFO:\n",
      "\t Executing node analyzeBOLD.a1 in dir: /tmp/tmpzhm7T0/bids_demo/_subject_id_02/analyzeBOLD\n",
      "\n",
      "\n",
      "analyzing ['/data/ds102/sub-02/func/sub-02_task-flanker_run-1_bold.nii.gz', '/data/ds102/sub-02/func/sub-02_task-flanker_run-2_bold.nii.gz']\n",
      "\n",
      "\n"
     ]
    },
    {
     "data": {
      "text/plain": [
       "<networkx.classes.digraph.DiGraph at 0x7f64060a6e10>"
      ]
     },
     "execution_count": 17,
     "metadata": {},
     "output_type": "execute_result"
    }
   ],
   "source": [
    "BIDSDataGrabber.iterables = ('subject_id', layout.get_subjects())\n",
    "wf.run()"
   ]
  },
  {
   "cell_type": "markdown",
   "metadata": {},
   "source": [
    "## Accessing additional metadata\n",
    "Querying different files is nice, but sometimes you want to access more metadata. For example `RepetitionTime`. `pybids` can help with that as well"
   ]
  },
  {
   "cell_type": "code",
   "execution_count": 18,
   "metadata": {
    "collapsed": false,
    "deletable": true,
    "editable": true
   },
   "outputs": [
    {
     "data": {
      "text/plain": [
       "{u'CogAtlasID': u'tsk_4a57abb949a4f',\n",
       " u'EchoTime': 0.03,\n",
       " u'FlipAngle': 80.0,\n",
       " u'MRAcquisitionType': u'2D',\n",
       " u'MagneticFieldStrength': 3.0,\n",
       " u'Manufacturer': u'Siemens',\n",
       " u'ManufacturerModelName': u'Allegra',\n",
       " u'RepetitionTime': 2.0,\n",
       " u'ScanningSequence': u'Echo Planar',\n",
       " u'TaskDescription': u'On each trial (inter-trial interval (ITI) varied between 8 s and 14 s; mean ITI=12 s),participants used one of two buttons on a response pad to indicate the direction of a central arrow in an array of 5 arrows. In congruent trials the flanking arrows pointed in the same direction as the central arrow (e.g., < < < < <), while in more demanding incongruent trials the flanking arrows pointed in the opposite direction (e.g., < < > < <). Subjects performed two 5-minute blocks, each containing 12 congruent and 12 incongruent trials, presented in a pseudorandom order.',\n",
       " u'TaskName': u'Flanker'}"
      ]
     },
     "execution_count": 18,
     "metadata": {},
     "output_type": "execute_result"
    }
   ],
   "source": [
    "layout.get_metadata('/data/ds102/sub-01/func/sub-01_task-flanker_run-1_bold.nii.gz')"
   ]
  },
  {
   "cell_type": "markdown",
   "metadata": {},
   "source": [
    "Can we incorporate this into our pipeline? Yes we can!"
   ]
  },
  {
   "cell_type": "code",
   "execution_count": 19,
   "metadata": {
    "collapsed": true,
    "deletable": true,
    "editable": true
   },
   "outputs": [],
   "source": [
    "def printMetadata(path, data_dir):\n",
    "    from bids.grabbids import BIDSLayout\n",
    "    layout = BIDSLayout(data_dir)\n",
    "    print(\"\\n\\nanalyzing \" + path + \"\\nTR: \"+ str(layout.get_metadata(path)[\"RepetitionTime\"]) + \"\\n\\n\")\n",
    "    \n",
    "analyzeBOLD2 = MapNode(Function(function=printMetadata, input_names=[\"path\", \"data_dir\"],\n",
    "                             output_names=[]), name=\"analyzeBOLD2\", iterfield=\"path\")\n",
    "analyzeBOLD2.inputs.data_dir = \"/data/ds102/\""
   ]
  },
  {
   "cell_type": "code",
   "execution_count": 20,
   "metadata": {
    "collapsed": false,
    "deletable": true,
    "editable": true,
    "scrolled": false
   },
   "outputs": [
    {
     "name": "stdout",
     "output_type": "stream",
     "text": [
      "170324-16:47:06,580 workflow INFO:\n",
      "\t Workflow bids_demo settings: ['check', 'execution', 'logging']\n",
      "170324-16:47:06,772 workflow INFO:\n",
      "\t Running serially.\n",
      "170324-16:47:06,776 workflow INFO:\n",
      "\t Executing node BIDSDataGrabber.aI.a3 in dir: /tmp/tmpcgwNa6/bids_demo/_subject_id_04/BIDSDataGrabber\n",
      "170324-16:47:06,862 workflow INFO:\n",
      "\t Executing node analyzeBOLD2.a3 in dir: /tmp/tmpMj_ARH/bids_demo/_subject_id_04/analyzeBOLD2\n",
      "170324-16:47:06,886 workflow INFO:\n",
      "\t Executing node _analyzeBOLD20 in dir: /tmp/tmpMj_ARH/bids_demo/_subject_id_04/analyzeBOLD2/mapflow/_analyzeBOLD20\n",
      "\n",
      "\n",
      "analyzing /data/ds102/sub-04/func/sub-04_task-flanker_run-1_bold.nii.gz\n",
      "TR: 2.0\n",
      "\n",
      "\n",
      "170324-16:47:06,930 workflow INFO:\n",
      "\t Executing node _analyzeBOLD21 in dir: /tmp/tmpMj_ARH/bids_demo/_subject_id_04/analyzeBOLD2/mapflow/_analyzeBOLD21\n",
      "\n",
      "\n",
      "analyzing /data/ds102/sub-04/func/sub-04_task-flanker_run-2_bold.nii.gz\n",
      "TR: 2.0\n",
      "\n",
      "\n",
      "170324-16:47:06,992 workflow INFO:\n",
      "\t Executing node BIDSDataGrabber.aI.a0 in dir: /tmp/tmpSCLTf6/bids_demo/_subject_id_01/BIDSDataGrabber\n",
      "170324-16:47:07,39 workflow INFO:\n",
      "\t Executing node BIDSDataGrabber.aI.a1 in dir: /tmp/tmpgZSTa5/bids_demo/_subject_id_02/BIDSDataGrabber\n",
      "170324-16:47:07,95 workflow INFO:\n",
      "\t Executing node analyzeT1w.a3 in dir: /tmp/tmpjNja2B/bids_demo/_subject_id_04/analyzeT1w\n",
      "\n",
      "\n",
      "analyzing ['/data/ds102/sub-04/anat/sub-04_T1w.nii.gz']\n",
      "\n",
      "\n",
      "170324-16:47:07,122 workflow INFO:\n",
      "\t Executing node BIDSDataGrabber.aI.a4 in dir: /tmp/tmp_oDiJo/bids_demo/_subject_id_05/BIDSDataGrabber\n",
      "170324-16:47:07,202 workflow INFO:\n",
      "\t Executing node analyzeBOLD2.a0 in dir: /tmp/tmpnNFANQ/bids_demo/_subject_id_01/analyzeBOLD2\n",
      "170324-16:47:07,234 workflow INFO:\n",
      "\t Executing node _analyzeBOLD20 in dir: /tmp/tmpnNFANQ/bids_demo/_subject_id_01/analyzeBOLD2/mapflow/_analyzeBOLD20\n",
      "\n",
      "\n",
      "analyzing /data/ds102/sub-01/func/sub-01_task-flanker_run-1_bold.nii.gz\n",
      "TR: 2.0\n",
      "\n",
      "\n",
      "170324-16:47:07,266 workflow INFO:\n",
      "\t Executing node _analyzeBOLD21 in dir: /tmp/tmpnNFANQ/bids_demo/_subject_id_01/analyzeBOLD2/mapflow/_analyzeBOLD21\n",
      "\n",
      "\n",
      "analyzing /data/ds102/sub-01/func/sub-01_task-flanker_run-2_bold.nii.gz\n",
      "TR: 2.0\n",
      "\n",
      "\n",
      "170324-16:47:07,332 workflow INFO:\n",
      "\t Executing node analyzeT1w.a4 in dir: /tmp/tmpTz6Dog/bids_demo/_subject_id_05/analyzeT1w\n",
      "\n",
      "\n",
      "analyzing ['/data/ds102/sub-05/anat/sub-05_T1w.nii.gz']\n",
      "\n",
      "\n",
      "170324-16:47:07,365 workflow INFO:\n",
      "\t Executing node analyzeT1w.a0 in dir: /tmp/tmpzKnJ_z/bids_demo/_subject_id_01/analyzeT1w\n",
      "\n",
      "\n",
      "analyzing ['/data/ds102/sub-01/anat/sub-01_T1w.nii.gz']\n",
      "\n",
      "\n",
      "170324-16:47:07,414 workflow INFO:\n",
      "\t Executing node analyzeBOLD2.a1 in dir: /tmp/tmpUJWQtL/bids_demo/_subject_id_02/analyzeBOLD2\n",
      "170324-16:47:07,444 workflow INFO:\n",
      "\t Executing node _analyzeBOLD20 in dir: /tmp/tmpUJWQtL/bids_demo/_subject_id_02/analyzeBOLD2/mapflow/_analyzeBOLD20\n",
      "\n",
      "\n",
      "analyzing /data/ds102/sub-02/func/sub-02_task-flanker_run-1_bold.nii.gz\n",
      "TR: 2.0\n",
      "\n",
      "\n",
      "170324-16:47:07,498 workflow INFO:\n",
      "\t Executing node _analyzeBOLD21 in dir: /tmp/tmpUJWQtL/bids_demo/_subject_id_02/analyzeBOLD2/mapflow/_analyzeBOLD21\n",
      "\n",
      "\n",
      "analyzing /data/ds102/sub-02/func/sub-02_task-flanker_run-2_bold.nii.gz\n",
      "TR: 2.0\n",
      "\n",
      "\n",
      "170324-16:47:07,553 workflow INFO:\n",
      "\t Executing node BIDSDataGrabber.aI.a2 in dir: /tmp/tmp4mgUuJ/bids_demo/_subject_id_03/BIDSDataGrabber\n",
      "170324-16:47:07,616 workflow INFO:\n",
      "\t Executing node analyzeBOLD2.a2 in dir: /tmp/tmpph_j4s/bids_demo/_subject_id_03/analyzeBOLD2\n",
      "170324-16:47:07,645 workflow INFO:\n",
      "\t Executing node _analyzeBOLD20 in dir: /tmp/tmpph_j4s/bids_demo/_subject_id_03/analyzeBOLD2/mapflow/_analyzeBOLD20\n",
      "\n",
      "\n",
      "analyzing /data/ds102/sub-03/func/sub-03_task-flanker_run-1_bold.nii.gz\n",
      "TR: 2.0\n",
      "\n",
      "\n",
      "170324-16:47:07,703 workflow INFO:\n",
      "\t Executing node _analyzeBOLD21 in dir: /tmp/tmpph_j4s/bids_demo/_subject_id_03/analyzeBOLD2/mapflow/_analyzeBOLD21\n",
      "\n",
      "\n",
      "analyzing /data/ds102/sub-03/func/sub-03_task-flanker_run-2_bold.nii.gz\n",
      "TR: 2.0\n",
      "\n",
      "\n",
      "170324-16:47:07,784 workflow INFO:\n",
      "\t Executing node analyzeBOLD2.a4 in dir: /tmp/tmpCBrCUd/bids_demo/_subject_id_05/analyzeBOLD2\n",
      "170324-16:47:07,804 workflow INFO:\n",
      "\t Executing node _analyzeBOLD20 in dir: /tmp/tmpCBrCUd/bids_demo/_subject_id_05/analyzeBOLD2/mapflow/_analyzeBOLD20\n",
      "\n",
      "\n",
      "analyzing /data/ds102/sub-05/func/sub-05_task-flanker_run-1_bold.nii.gz\n",
      "TR: 2.0\n",
      "\n",
      "\n",
      "170324-16:47:07,866 workflow INFO:\n",
      "\t Executing node _analyzeBOLD21 in dir: /tmp/tmpCBrCUd/bids_demo/_subject_id_05/analyzeBOLD2/mapflow/_analyzeBOLD21\n",
      "\n",
      "\n",
      "analyzing /data/ds102/sub-05/func/sub-05_task-flanker_run-2_bold.nii.gz\n",
      "TR: 2.0\n",
      "\n",
      "\n",
      "170324-16:47:07,944 workflow INFO:\n",
      "\t Executing node analyzeT1w.a1 in dir: /tmp/tmpvmxf30/bids_demo/_subject_id_02/analyzeT1w\n",
      "\n",
      "\n",
      "analyzing ['/data/ds102/sub-02/anat/sub-02_T1w.nii.gz']\n",
      "\n",
      "\n",
      "170324-16:47:07,997 workflow INFO:\n",
      "\t Executing node analyzeT1w.a2 in dir: /tmp/tmp6pXqQI/bids_demo/_subject_id_03/analyzeT1w\n",
      "\n",
      "\n",
      "analyzing ['/data/ds102/sub-03/anat/sub-03_T1w.nii.gz']\n",
      "\n",
      "\n"
     ]
    },
    {
     "data": {
      "text/plain": [
       "<networkx.classes.digraph.DiGraph at 0x7f640601a6d0>"
      ]
     },
     "execution_count": 20,
     "metadata": {},
     "output_type": "execute_result"
    }
   ],
   "source": [
    "wf = Workflow(name=\"bids_demo\")\n",
    "wf.connect(BIDSDataGrabber, \"bolds\", analyzeBOLD2, \"path\")\n",
    "wf.connect(BIDSDataGrabber, \"T1ws\", analyzeT1w, \"paths\")\n",
    "wf.run()"
   ]
  }
 ],
 "metadata": {
  "kernelspec": {
   "display_name": "Python [default]",
   "language": "python",
   "name": "python2"
  },
  "language_info": {
   "codemirror_mode": {
    "name": "ipython",
    "version": 2
   },
   "file_extension": ".py",
   "mimetype": "text/x-python",
   "name": "python",
   "nbconvert_exporter": "python",
   "pygments_lexer": "ipython2",
   "version": "2.7.12"
  }
 },
 "nbformat": 4,
 "nbformat_minor": 2
}
