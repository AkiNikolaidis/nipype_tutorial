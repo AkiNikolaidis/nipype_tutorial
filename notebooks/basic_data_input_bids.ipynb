{
 "cells": [
  {
   "cell_type": "code",
   "execution_count": 1,
   "metadata": {
    "collapsed": true,
    "deletable": true,
    "editable": true
   },
   "outputs": [],
   "source": [
    "from bids.grabbids import BIDSLayout"
   ]
  },
  {
   "cell_type": "code",
   "execution_count": 2,
   "metadata": {
    "collapsed": false,
    "deletable": true,
    "editable": true
   },
   "outputs": [],
   "source": [
    "layout = BIDSLayout(\"/data/ds102/\")"
   ]
  },
  {
   "cell_type": "code",
   "execution_count": 3,
   "metadata": {
    "collapsed": false,
    "deletable": true,
    "editable": true
   },
   "outputs": [
    {
     "data": {
      "text/plain": [
       "['01', '02', '03', '04', '05']"
      ]
     },
     "execution_count": 3,
     "metadata": {},
     "output_type": "execute_result"
    }
   ],
   "source": [
    "layout.get_subjects()"
   ]
  },
  {
   "cell_type": "code",
   "execution_count": 4,
   "metadata": {
    "collapsed": false,
    "deletable": true,
    "editable": true
   },
   "outputs": [
    {
     "data": {
      "text/plain": [
       "['anat', 'func']"
      ]
     },
     "execution_count": 4,
     "metadata": {},
     "output_type": "execute_result"
    }
   ],
   "source": [
    "layout.get_modalities()"
   ]
  },
  {
   "cell_type": "code",
   "execution_count": 5,
   "metadata": {
    "collapsed": false,
    "deletable": true,
    "editable": true
   },
   "outputs": [
    {
     "data": {
      "text/plain": [
       "['bold', 'events', 'T1w']"
      ]
     },
     "execution_count": 5,
     "metadata": {},
     "output_type": "execute_result"
    }
   ],
   "source": [
    "layout.get_types()"
   ]
  },
  {
   "cell_type": "code",
   "execution_count": 6,
   "metadata": {
    "collapsed": false,
    "deletable": true,
    "editable": true
   },
   "outputs": [
    {
     "data": {
      "text/plain": [
       "['flanker']"
      ]
     },
     "execution_count": 6,
     "metadata": {},
     "output_type": "execute_result"
    }
   ],
   "source": [
    "layout.get_tasks()"
   ]
  },
  {
   "cell_type": "code",
   "execution_count": 7,
   "metadata": {
    "collapsed": false,
    "deletable": true,
    "editable": true
   },
   "outputs": [
    {
     "data": {
      "text/plain": [
       "[File(filename='/data/ds102/sub-01/anat/sub-01_T1w.nii.gz', type='T1w', modality='anat', subject='01'),\n",
       " File(filename='/data/ds102/sub-01/func/sub-01_task-flanker_run-1_bold.nii.gz', type='bold', task='flanker', run='1', modality='func', subject='01'),\n",
       " File(filename='/data/ds102/sub-01/func/sub-01_task-flanker_run-1_events.tsv', type='events', task='flanker', run='1', modality='func', subject='01'),\n",
       " File(filename='/data/ds102/sub-01/func/sub-01_task-flanker_run-2_bold.nii.gz', type='bold', task='flanker', run='2', modality='func', subject='01'),\n",
       " File(filename='/data/ds102/sub-01/func/sub-01_task-flanker_run-2_events.tsv', type='events', task='flanker', run='2', modality='func', subject='01')]"
      ]
     },
     "execution_count": 7,
     "metadata": {},
     "output_type": "execute_result"
    }
   ],
   "source": [
    "layout.get(subject='01')"
   ]
  },
  {
   "cell_type": "code",
   "execution_count": 8,
   "metadata": {
    "collapsed": false
   },
   "outputs": [
    {
     "data": {
      "text/plain": [
       "[File(filename='/data/ds102/sub-01/func/sub-01_task-flanker_run-1_bold.nii.gz', type='bold', task='flanker', run='1', modality='func', subject='01'),\n",
       " File(filename='/data/ds102/sub-01/func/sub-01_task-flanker_run-2_bold.nii.gz', type='bold', task='flanker', run='2', modality='func', subject='01')]"
      ]
     },
     "execution_count": 8,
     "metadata": {},
     "output_type": "execute_result"
    }
   ],
   "source": [
    "layout.get(subject='01', type='bold', extensions=['nii', 'nii.gz'])"
   ]
  },
  {
   "cell_type": "code",
   "execution_count": 9,
   "metadata": {
    "collapsed": false
   },
   "outputs": [
    {
     "data": {
      "text/plain": [
       "['/data/ds102/sub-01/anat/sub-01_T1w.nii.gz']"
      ]
     },
     "execution_count": 9,
     "metadata": {},
     "output_type": "execute_result"
    }
   ],
   "source": [
    "[f.filename for f in layout.get(subject='01', type='T1w', extensions=['nii', 'nii.gz'])]"
   ]
  },
  {
   "cell_type": "code",
   "execution_count": 10,
   "metadata": {
    "collapsed": false
   },
   "outputs": [],
   "source": [
    "def get_niftis(subject_id, data_dir):\n",
    "    from bids.grabbids import BIDSLayout\n",
    "    layout = BIDSLayout(data_dir)\n",
    "    bolds = [f.filename for f in layout.get(subject='01', type='bold', extensions=['nii', 'nii.gz'])]\n",
    "    T1ws = [f.filename for f in layout.get(subject='01', type='T1w', extensions=['nii', 'nii.gz'])]\n",
    "    return bolds, T1ws"
   ]
  },
  {
   "cell_type": "code",
   "execution_count": 11,
   "metadata": {
    "collapsed": false
   },
   "outputs": [
    {
     "data": {
      "text/plain": [
       "(['/data/ds102/sub-01/func/sub-01_task-flanker_run-1_bold.nii.gz',\n",
       "  '/data/ds102/sub-01/func/sub-01_task-flanker_run-2_bold.nii.gz'],\n",
       " ['/data/ds102/sub-01/anat/sub-01_T1w.nii.gz'])"
      ]
     },
     "execution_count": 11,
     "metadata": {},
     "output_type": "execute_result"
    }
   ],
   "source": [
    "get_niftis('01', '/data/ds102')"
   ]
  },
  {
   "cell_type": "code",
   "execution_count": 12,
   "metadata": {
    "collapsed": true
   },
   "outputs": [],
   "source": [
    "from nipype.pipeline import Node, Workflow\n",
    "from nipype.interfaces.utility import IdentityInterface, Function"
   ]
  },
  {
   "cell_type": "code",
   "execution_count": 13,
   "metadata": {
    "collapsed": false
   },
   "outputs": [],
   "source": [
    "BIDSDataGrabber = Node(Function(function=get_niftis, input_names=[\"subject_id\",\n",
    "                                       \"data_dir\"],\n",
    "                                   output_names=[\"bolds\", \n",
    "                                        \"T1ws\"]), name=\"BIDSDataGrabber\")\n",
    "BIDSDataGrabber.inputs.data_dir = \"/data/ds102\""
   ]
  },
  {
   "cell_type": "code",
   "execution_count": 14,
   "metadata": {
    "collapsed": false
   },
   "outputs": [
    {
     "name": "stdout",
     "output_type": "stream",
     "text": [
      "170324-02:14:41,668 workflow INFO:\n",
      "\t Executing node BIDSDataGrabber in dir: /tmp/tmpeiZkoI/BIDSDataGrabber\n"
     ]
    },
    {
     "data": {
      "text/plain": [
       "\n",
       "T1ws = ['/data/ds102/sub-01/anat/sub-01_T1w.nii.gz']\n",
       "bolds = ['/data/ds102/sub-01/func/sub-01_task-flanker_run-1_bold.nii.gz', '/data/ds102/sub-01/func/sub-01_task-flanker_run-2_bold.nii.gz']"
      ]
     },
     "execution_count": 14,
     "metadata": {},
     "output_type": "execute_result"
    }
   ],
   "source": [
    "BIDSDataGrabber.inputs.subject_id='01'\n",
    "res = BIDSDataGrabber.run()\n",
    "res.outputs"
   ]
  },
  {
   "cell_type": "code",
   "execution_count": 15,
   "metadata": {
    "collapsed": false
   },
   "outputs": [],
   "source": [
    "def printMe(paths):\n",
    "    print(\"analyzing \" + str(paths))\n",
    "    \n",
    "analyzeBOLD = Node(Function(function=printMe, input_names=[\"paths\"],\n",
    "                                   output_names=[]), name=\"analyzeBOLD\")\n",
    "\n",
    "analyzeT1w = Node(Function(function=printMe, input_names=[\"paths\"],\n",
    "                                   output_names=[]), name=\"analyzeT1w\")\n"
   ]
  },
  {
   "cell_type": "code",
   "execution_count": 16,
   "metadata": {
    "collapsed": false
   },
   "outputs": [
    {
     "name": "stdout",
     "output_type": "stream",
     "text": [
      "170324-02:14:41,842 workflow INFO:\n",
      "\t Workflow bids_demo settings: ['check', 'execution', 'logging']\n",
      "170324-02:14:41,997 workflow INFO:\n",
      "\t Running serially.\n",
      "170324-02:14:41,998 workflow INFO:\n",
      "\t Executing node BIDSDataGrabber in dir: /tmp/tmpSRZQnw/bids_demo/BIDSDataGrabber\n",
      "170324-02:14:42,81 workflow INFO:\n",
      "\t Executing node analyzeBOLD in dir: /tmp/tmphxmOJc/bids_demo/analyzeBOLD\n",
      "analyzing ['/data/ds102/sub-01/func/sub-01_task-flanker_run-1_bold.nii.gz', '/data/ds102/sub-01/func/sub-01_task-flanker_run-2_bold.nii.gz']\n",
      "170324-02:14:42,121 workflow INFO:\n",
      "\t Executing node analyzeT1w in dir: /tmp/tmpx5Wgao/bids_demo/analyzeT1w\n",
      "analyzing ['/data/ds102/sub-01/anat/sub-01_T1w.nii.gz']\n"
     ]
    },
    {
     "data": {
      "text/plain": [
       "<networkx.classes.digraph.DiGraph at 0x7fa856521d50>"
      ]
     },
     "execution_count": 16,
     "metadata": {},
     "output_type": "execute_result"
    }
   ],
   "source": [
    "wf = Workflow(name=\"bids_demo\")\n",
    "wf.connect(BIDSDataGrabber, \"bolds\", analyzeBOLD, \"paths\")\n",
    "wf.connect(BIDSDataGrabber, \"T1ws\", analyzeT1w, \"paths\")\n",
    "wf.run()"
   ]
  },
  {
   "cell_type": "code",
   "execution_count": 17,
   "metadata": {
    "collapsed": false
   },
   "outputs": [
    {
     "name": "stdout",
     "output_type": "stream",
     "text": [
      "170324-02:14:42,186 workflow INFO:\n",
      "\t Workflow bids_demo settings: ['check', 'execution', 'logging']\n",
      "170324-02:14:42,307 workflow INFO:\n",
      "\t Running serially.\n",
      "170324-02:14:42,309 workflow INFO:\n",
      "\t Executing node BIDSDataGrabber.aI.a4 in dir: /tmp/tmp9T8lxs/bids_demo/_subject_id_05/BIDSDataGrabber\n",
      "170324-02:14:42,361 workflow INFO:\n",
      "\t Executing node BIDSDataGrabber.aI.a0 in dir: /tmp/tmpnML3R5/bids_demo/_subject_id_01/BIDSDataGrabber\n",
      "170324-02:14:42,420 workflow INFO:\n",
      "\t Executing node analyzeBOLD.a4 in dir: /tmp/tmpFsm8Gt/bids_demo/_subject_id_05/analyzeBOLD\n",
      "analyzing ['/data/ds102/sub-01/func/sub-01_task-flanker_run-1_bold.nii.gz', '/data/ds102/sub-01/func/sub-01_task-flanker_run-2_bold.nii.gz']\n",
      "170324-02:14:42,453 workflow INFO:\n",
      "\t Executing node BIDSDataGrabber.aI.a1 in dir: /tmp/tmpfEVhfN/bids_demo/_subject_id_02/BIDSDataGrabber\n",
      "170324-02:14:42,515 workflow INFO:\n",
      "\t Executing node analyzeT1w.a1 in dir: /tmp/tmpAUChZ_/bids_demo/_subject_id_02/analyzeT1w\n",
      "analyzing ['/data/ds102/sub-01/anat/sub-01_T1w.nii.gz']\n",
      "170324-02:14:42,544 workflow INFO:\n",
      "\t Executing node analyzeBOLD.a0 in dir: /tmp/tmp4ChzZV/bids_demo/_subject_id_01/analyzeBOLD\n",
      "analyzing ['/data/ds102/sub-01/func/sub-01_task-flanker_run-1_bold.nii.gz', '/data/ds102/sub-01/func/sub-01_task-flanker_run-2_bold.nii.gz']\n",
      "170324-02:14:42,585 workflow INFO:\n",
      "\t Executing node BIDSDataGrabber.aI.a2 in dir: /tmp/tmppLp5JS/bids_demo/_subject_id_03/BIDSDataGrabber\n",
      "170324-02:14:42,644 workflow INFO:\n",
      "\t Executing node analyzeT1w.a2 in dir: /tmp/tmpVkcTCu/bids_demo/_subject_id_03/analyzeT1w\n",
      "analyzing ['/data/ds102/sub-01/anat/sub-01_T1w.nii.gz']\n",
      "170324-02:14:42,684 workflow INFO:\n",
      "\t Executing node analyzeBOLD.a2 in dir: /tmp/tmpqwL93N/bids_demo/_subject_id_03/analyzeBOLD\n",
      "analyzing ['/data/ds102/sub-01/func/sub-01_task-flanker_run-1_bold.nii.gz', '/data/ds102/sub-01/func/sub-01_task-flanker_run-2_bold.nii.gz']\n",
      "170324-02:14:42,721 workflow INFO:\n",
      "\t Executing node BIDSDataGrabber.aI.a3 in dir: /tmp/tmpNmLDxO/bids_demo/_subject_id_04/BIDSDataGrabber\n",
      "170324-02:14:42,778 workflow INFO:\n",
      "\t Executing node analyzeT1w.a3 in dir: /tmp/tmpQkaT4Q/bids_demo/_subject_id_04/analyzeT1w\n",
      "analyzing ['/data/ds102/sub-01/anat/sub-01_T1w.nii.gz']\n",
      "170324-02:14:42,807 workflow INFO:\n",
      "\t Executing node analyzeBOLD.a1 in dir: /tmp/tmpynubis/bids_demo/_subject_id_02/analyzeBOLD\n",
      "analyzing ['/data/ds102/sub-01/func/sub-01_task-flanker_run-1_bold.nii.gz', '/data/ds102/sub-01/func/sub-01_task-flanker_run-2_bold.nii.gz']\n",
      "170324-02:14:42,855 workflow INFO:\n",
      "\t Executing node analyzeBOLD.a3 in dir: /tmp/tmpo98QvJ/bids_demo/_subject_id_04/analyzeBOLD\n",
      "analyzing ['/data/ds102/sub-01/func/sub-01_task-flanker_run-1_bold.nii.gz', '/data/ds102/sub-01/func/sub-01_task-flanker_run-2_bold.nii.gz']\n",
      "170324-02:14:42,898 workflow INFO:\n",
      "\t Executing node analyzeT1w.a4 in dir: /tmp/tmpTWGFZ0/bids_demo/_subject_id_05/analyzeT1w\n",
      "analyzing ['/data/ds102/sub-01/anat/sub-01_T1w.nii.gz']\n",
      "170324-02:14:42,958 workflow INFO:\n",
      "\t Executing node analyzeT1w.a0 in dir: /tmp/tmpHpl532/bids_demo/_subject_id_01/analyzeT1w\n",
      "analyzing ['/data/ds102/sub-01/anat/sub-01_T1w.nii.gz']\n"
     ]
    },
    {
     "data": {
      "text/plain": [
       "<networkx.classes.digraph.DiGraph at 0x7fa856521f10>"
      ]
     },
     "execution_count": 17,
     "metadata": {},
     "output_type": "execute_result"
    }
   ],
   "source": [
    "BIDSDataGrabber.iterables = ('subject_id', layout.get_subjects())\n",
    "wf.run()"
   ]
  },
  {
   "cell_type": "code",
   "execution_count": null,
   "metadata": {
    "collapsed": true
   },
   "outputs": [],
   "source": []
  }
 ],
 "metadata": {
  "kernelspec": {
   "display_name": "Python [default]",
   "language": "python",
   "name": "python2"
  },
  "language_info": {
   "codemirror_mode": {
    "name": "ipython",
    "version": 2
   },
   "file_extension": ".py",
   "mimetype": "text/x-python",
   "name": "python",
   "nbconvert_exporter": "python",
   "pygments_lexer": "ipython2",
   "version": "2.7.12"
  }
 },
 "nbformat": 4,
 "nbformat_minor": 2
}
